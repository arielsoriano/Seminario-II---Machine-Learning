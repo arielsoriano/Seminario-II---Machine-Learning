{
 "cells": [
  {
   "cell_type": "markdown",
   "metadata": {},
   "source": [
    "# Importamos librerías"
   ]
  },
  {
   "cell_type": "code",
   "execution_count": 11,
   "metadata": {},
   "outputs": [],
   "source": [
    "import numpy as np\n",
    "from tensorflow.python.keras.preprocessing.image import load_img, img_to_array\n",
    "from tensorflow.python.keras.models import load_model\n",
    "import matplotlib.pyplot as plt\n",
    "import matplotlib.image as mpimg"
   ]
  },
  {
   "cell_type": "markdown",
   "metadata": {},
   "source": [
    "# Carga de parámetros "
   ]
  },
  {
   "cell_type": "code",
   "execution_count": 12,
   "metadata": {},
   "outputs": [],
   "source": [
    "altura, longitud = 30, 30 #Tamaño de las imagenes\n",
    "modelo = './modelo/modelo.h5'\n",
    "pesos = './modelo/pesos.h5'\n",
    "cnn = load_model(modelo)\n",
    "cnn.load_weights(pesos)"
   ]
  },
  {
   "cell_type": "markdown",
   "metadata": {},
   "source": [
    "# Función de predicción"
   ]
  },
  {
   "cell_type": "code",
   "execution_count": 14,
   "metadata": {},
   "outputs": [
    {
     "name": "stdout",
     "output_type": "stream",
     "text": [
      "Es: 22\n"
     ]
    },
    {
     "data": {
      "image/png": "[encoded data removed]",
      "text/plain": [
       "<Figure size 432x288 with 1 Axes>"
      ]
     },
     "metadata": {
      "needs_background": "light"
     },
     "output_type": "display_data"
    }
   ],
   "source": [
    "def predecir (file):\n",
    "    x = load_img(file, target_size = (longitud, altura)) #Le cargo la imagen y le asigno una altura y una longitud\n",
    "    x = img_to_array(x) #La convierto en un arreglo\n",
    "    x = np.expand_dims(x, axis = 0) #En el eje 0, le agregamos una nueva dimensión para poder procesar la información sin problema\n",
    "    arreglo = cnn.predict(x) #Llamamos a la red para que haga una predicción. Devuelve un arreglo de dos dimensiones\n",
    "\n",
    "    for i in arreglo[0]:\n",
    "        if i==1:\n",
    "            print (\"Es: \" + str(np.argmax(arreglo[0])))\n",
    "            imagen = str(np.argmax(arreglo[0])) + \".png\"\n",
    "            plt.imshow(mpimg.imread(\"./Dibujos/\" + str(np.argmax(arreglo[0])) + \".png\"))\n",
    "            plt.axis('off')\n",
    "               \n",
    "\n",
    "predecir('./2.jpg')\n",
    "    "
   ]
  },
  {
   "cell_type": "code",
   "execution_count": null,
   "metadata": {},
   "outputs": [],
   "source": []
  }
 ],
 "metadata": {
  "kernelspec": {
   "display_name": "Python 3",
   "language": "python",
   "name": "python3"
  },
  "language_info": {
   "codemirror_mode": {
    "name": "ipython",
    "version": 3
   },
   "file_extension": ".py",
   "mimetype": "text/x-python",
   "name": "python",
   "nbconvert_exporter": "python",
   "pygments_lexer": "ipython3",
   "version": "3.7.6"
  }
 },
 "nbformat": 4,
 "nbformat_minor": 4
}
