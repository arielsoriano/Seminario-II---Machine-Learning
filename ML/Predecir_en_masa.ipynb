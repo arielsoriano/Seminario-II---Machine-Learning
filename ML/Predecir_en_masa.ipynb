{
 "cells": [
  {
   "cell_type": "code",
   "execution_count": 14,
   "metadata": {},
   "outputs": [],
   "source": [
    "import numpy as np\n",
    "from tensorflow.python.keras.preprocessing.image import load_img, img_to_array\n",
    "from tensorflow.python.keras.models import load_model\n",
    "import matplotlib.pyplot as plt\n",
    "import matplotlib.image as mpimg\n",
    "from tensorflow.python.keras.preprocessing.image import ImageDataGenerator"
   ]
  },
  {
   "cell_type": "code",
   "execution_count": 15,
   "metadata": {},
   "outputs": [],
   "source": [
    "altura, longitud = 30, 30 #Tamaño de las imagenes\n",
    "modelo = './modelo/modelo.h5'\n",
    "pesos = './modelo/pesos.h5'\n",
    "cnn = load_model(modelo)\n",
    "cnn.load_weights(pesos)\n",
    "datos_entrenamiento = './Señales/Entrenamiento'\n",
    "datos_validacion = './Señales/Prueba'\n",
    "batch_size = 32"
   ]
  },
  {
   "cell_type": "code",
   "execution_count": 16,
   "metadata": {},
   "outputs": [
    {
     "name": "stdout",
     "output_type": "stream",
     "text": [
      "Found 4284 images belonging to 60 classes.\n",
      "Found 2411 images belonging to 60 classes.\n"
     ]
    }
   ],
   "source": [
    "entrenamiento_datagen = ImageDataGenerator( #Set de datos de entrenamiento\n",
    "    rescale=1./255, #Cada uno de los pixeles tiene un rango de 0 a 255, en este caso todos los valores de pixeles tendran valores de 0 a 1\n",
    "    shear_range=0.3, #Inclina la imagen para que el algoritmo aprenda a reconocer imagenes en todos los sentidos\n",
    "    zoom_range=0.3, #Hace zoom para que aprenda a que no siempre aparecen \"las señales completos\"\n",
    "    horizontal_flip = True #Toma una imagen y la invierte para que la red neuronal aprenda direccionalidad\n",
    ")\n",
    "\n",
    "validacion_datagen = ImageDataGenerator( #Set de datos de validacion\n",
    "    rescale=1. / 255, # Cada uno de los pixeles tiene un rango de 0 a 255, en este caso todos los valores de pixeles tendran valores de 0 a 1\n",
    "                      #Solo se las escala porque para validarlas no queremos hacerle zoom, girarla ni nada de eso\n",
    ")\n",
    "\n",
    "imagen_entrenamiento = entrenamiento_datagen.flow_from_directory( #Entra al directorio data_entrenamiento, abre todas las carpetas, las procesa a altuna y longitud especificada\n",
    "    #las procesa en un batch_size de 32, y class_mode = 'categorical' es porque es una clasificacion categorica\n",
    "    datos_entrenamiento,\n",
    "    target_size=(altura, longitud),\n",
    "    batch_size=batch_size,\n",
    "    class_mode='categorical'\n",
    ")\n",
    "\n",
    "imagen_validacion = validacion_datagen.flow_from_directory(\n",
    "    datos_validacion,\n",
    "    target_size=(altura, longitud),\n",
    "    batch_size=batch_size,\n",
    "    class_mode='categorical'\n",
    ")"
   ]
  },
  {
   "cell_type": "code",
   "execution_count": 17,
   "metadata": {},
   "outputs": [],
   "source": [
    "def predecir (file):\n",
    "    x = load_img(file, target_size = (longitud, altura)) #Le cargo la imagen y le asigno una altura y una longitud\n",
    "    x = img_to_array(x) #La convierto en un arreglo\n",
    "    x = np.expand_dims(x, axis = 0) #En el eje 0, le agregamos una nueva dimensión para poder procesar la información sin problema\n",
    "    arreglo = cnn.predict(x) #Llamamos a la red para que haga una predicción. Devuelve un arreglo de dos dimensiones  \n",
    "\n",
    "    return np.argmax(arreglo[0])\n",
    "    "
   ]
  },
  {
   "cell_type": "code",
   "execution_count": 18,
   "metadata": {},
   "outputs": [
    {
     "name": "stdout",
     "output_type": "stream",
     "text": [
      "Acierto: 2277\n",
      "Fallo: 134\n",
      "Porcentaje de acierto: 94.4421401907922\n",
      "Porcentaje de fallo: 5.557859809207797\n"
     ]
    }
   ],
   "source": [
    "acierto = 0\n",
    "fallo = 0\n",
    "cantidad_imagenes = 2411\n",
    "for i in range(cantidad_imagenes):\n",
    "    x = int(predecir(imagen_validacion.filepaths[i]))\n",
    "    y = int(imagen_validacion.filenames[i][3] + imagen_validacion.filenames[i][4])\n",
    "    if x == y:\n",
    "        acierto = acierto + 1\n",
    "    else: \n",
    "        fallo = fallo + 1\n",
    "print (\"Acierto: \" + str(acierto))\n",
    "print (\"Fallo: \" + str(fallo))\n",
    "\n",
    "print(\"Porcentaje de acierto: \" + str(100-(fallo*100)/cantidad_imagenes))\n",
    "print(\"Porcentaje de fallo: \" + str((fallo*100)/cantidad_imagenes)) "
   ]
  }
 ],
 "metadata": {
  "kernelspec": {
   "display_name": "Python 3",
   "language": "python",
   "name": "python3"
  },
  "language_info": {
   "codemirror_mode": {
    "name": "ipython",
    "version": 3
   },
   "file_extension": ".py",
   "mimetype": "text/x-python",
   "name": "python",
   "nbconvert_exporter": "python",
   "pygments_lexer": "ipython3",
   "version": "3.7.6"
  }
 },
 "nbformat": 4,
 "nbformat_minor": 4
}
